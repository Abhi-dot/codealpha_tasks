{
 "cells": [
  {
   "cell_type": "code",
   "execution_count": 1,
   "id": "6d915529-f483-4019-baa1-beec34e255ad",
   "metadata": {},
   "outputs": [],
   "source": [
    "import numpy as np \n",
    "import pandas as pd \n",
    "import matplotlib.pyplot as plt \n",
    "from sklearn.preprocessing import MinMaxScaler\n",
    "from keras.models import Sequential\n",
    "from keras.layers import Dense,LSTM,Dropout"
   ]
  },
  {
   "cell_type": "code",
   "execution_count": 5,
   "id": "1cb06540-ab8b-40dd-85de-73a4f5c53ab2",
   "metadata": {},
   "outputs": [
    {
     "data": {
      "text/html": [
       "<div>\n",
       "<style scoped>\n",
       "    .dataframe tbody tr th:only-of-type {\n",
       "        vertical-align: middle;\n",
       "    }\n",
       "\n",
       "    .dataframe tbody tr th {\n",
       "        vertical-align: top;\n",
       "    }\n",
       "\n",
       "    .dataframe thead th {\n",
       "        text-align: right;\n",
       "    }\n",
       "</style>\n",
       "<table border=\"1\" class=\"dataframe\">\n",
       "  <thead>\n",
       "    <tr style=\"text-align: right;\">\n",
       "      <th></th>\n",
       "      <th>Date</th>\n",
       "      <th>Open</th>\n",
       "      <th>High</th>\n",
       "      <th>Low</th>\n",
       "      <th>Close</th>\n",
       "      <th>Volume</th>\n",
       "    </tr>\n",
       "  </thead>\n",
       "  <tbody>\n",
       "    <tr>\n",
       "      <th>0</th>\n",
       "      <td>1/3/2012</td>\n",
       "      <td>325.25</td>\n",
       "      <td>332.83</td>\n",
       "      <td>324.97</td>\n",
       "      <td>663.59</td>\n",
       "      <td>7,380,500</td>\n",
       "    </tr>\n",
       "    <tr>\n",
       "      <th>1</th>\n",
       "      <td>1/4/2012</td>\n",
       "      <td>331.27</td>\n",
       "      <td>333.87</td>\n",
       "      <td>329.08</td>\n",
       "      <td>666.45</td>\n",
       "      <td>5,749,400</td>\n",
       "    </tr>\n",
       "    <tr>\n",
       "      <th>2</th>\n",
       "      <td>1/5/2012</td>\n",
       "      <td>329.83</td>\n",
       "      <td>330.75</td>\n",
       "      <td>326.89</td>\n",
       "      <td>657.21</td>\n",
       "      <td>6,590,300</td>\n",
       "    </tr>\n",
       "    <tr>\n",
       "      <th>3</th>\n",
       "      <td>1/6/2012</td>\n",
       "      <td>328.34</td>\n",
       "      <td>328.77</td>\n",
       "      <td>323.68</td>\n",
       "      <td>648.24</td>\n",
       "      <td>5,405,900</td>\n",
       "    </tr>\n",
       "    <tr>\n",
       "      <th>4</th>\n",
       "      <td>1/9/2012</td>\n",
       "      <td>322.04</td>\n",
       "      <td>322.29</td>\n",
       "      <td>309.46</td>\n",
       "      <td>620.76</td>\n",
       "      <td>11,688,800</td>\n",
       "    </tr>\n",
       "  </tbody>\n",
       "</table>\n",
       "</div>"
      ],
      "text/plain": [
       "       Date    Open    High     Low   Close      Volume\n",
       "0  1/3/2012  325.25  332.83  324.97  663.59   7,380,500\n",
       "1  1/4/2012  331.27  333.87  329.08  666.45   5,749,400\n",
       "2  1/5/2012  329.83  330.75  326.89  657.21   6,590,300\n",
       "3  1/6/2012  328.34  328.77  323.68  648.24   5,405,900\n",
       "4  1/9/2012  322.04  322.29  309.46  620.76  11,688,800"
      ]
     },
     "execution_count": 5,
     "metadata": {},
     "output_type": "execute_result"
    }
   ],
   "source": [
    "data = pd.read_csv('C:\\\\Users\\\\ASUS\\\\Downloads\\\\datasetsandcodefilesstockmarketprediction (1)\\Google_train_data.csv')\n",
    "data.head()"
   ]
  },
  {
   "cell_type": "code",
   "execution_count": 6,
   "id": "50c805f1-143b-462b-883e-3c52f690b703",
   "metadata": {},
   "outputs": [
    {
     "name": "stdout",
     "output_type": "stream",
     "text": [
      "<class 'pandas.core.frame.DataFrame'>\n",
      "RangeIndex: 1258 entries, 0 to 1257\n",
      "Data columns (total 6 columns):\n",
      " #   Column  Non-Null Count  Dtype  \n",
      "---  ------  --------------  -----  \n",
      " 0   Date    1258 non-null   object \n",
      " 1   Open    1258 non-null   float64\n",
      " 2   High    1258 non-null   float64\n",
      " 3   Low     1258 non-null   float64\n",
      " 4   Close   1258 non-null   object \n",
      " 5   Volume  1258 non-null   object \n",
      "dtypes: float64(3), object(3)\n",
      "memory usage: 59.1+ KB\n"
     ]
    }
   ],
   "source": [
    "data.info()"
   ]
  },
  {
   "cell_type": "code",
   "execution_count": 7,
   "id": "5b0536db-1563-4f23-9ddf-c2be5a2b428d",
   "metadata": {},
   "outputs": [],
   "source": [
    "data[\"Close\"]=pd.to_numeric(data.Close,errors='coerce')\n",
    "data = data.dropna()\n",
    "trainData = data.iloc[:,4:5].values"
   ]
  },
  {
   "cell_type": "code",
   "execution_count": 8,
   "id": "0af1bf20-3e2f-47b1-a8ec-ba545dafe308",
   "metadata": {},
   "outputs": [
    {
     "name": "stdout",
     "output_type": "stream",
     "text": [
      "<class 'pandas.core.frame.DataFrame'>\n",
      "Index: 1149 entries, 0 to 1257\n",
      "Data columns (total 6 columns):\n",
      " #   Column  Non-Null Count  Dtype  \n",
      "---  ------  --------------  -----  \n",
      " 0   Date    1149 non-null   object \n",
      " 1   Open    1149 non-null   float64\n",
      " 2   High    1149 non-null   float64\n",
      " 3   Low     1149 non-null   float64\n",
      " 4   Close   1149 non-null   float64\n",
      " 5   Volume  1149 non-null   object \n",
      "dtypes: float64(4), object(2)\n",
      "memory usage: 62.8+ KB\n"
     ]
    }
   ],
   "source": [
    "data.info()"
   ]
  },
  {
   "cell_type": "code",
   "execution_count": 9,
   "id": "fe66dee3-4d80-4a62-b1fb-05cf9d5bde26",
   "metadata": {},
   "outputs": [
    {
     "data": {
      "text/plain": [
       "(1149, 1)"
      ]
     },
     "execution_count": 9,
     "metadata": {},
     "output_type": "execute_result"
    }
   ],
   "source": [
    "sc = MinMaxScaler(feature_range=(0,1))\n",
    "trainData = sc.fit_transform(trainData)\n",
    "trainData.shape"
   ]
  },
  {
   "cell_type": "code",
   "execution_count": 10,
   "id": "c8b58ca5-b448-418b-9b55-573aea8c5d2c",
   "metadata": {},
   "outputs": [],
   "source": [
    "X_train = []\n",
    "y_train = []\n",
    "\n",
    "for i in range (60,1149): #60 : timestep // 1149 : length of the data\n",
    "    X_train.append(trainData[i-60:i,0]) \n",
    "    y_train.append(trainData[i,0])\n",
    "\n",
    "X_train,y_train = np.array(X_train),np.array(y_train)"
   ]
  },
  {
   "cell_type": "code",
   "execution_count": 11,
   "id": "ca17dcdc-c345-4dac-83cf-087094abb414",
   "metadata": {},
   "outputs": [
    {
     "data": {
      "text/plain": [
       "(1089, 60, 1)"
      ]
     },
     "execution_count": 11,
     "metadata": {},
     "output_type": "execute_result"
    }
   ],
   "source": [
    "X_train = np.reshape(X_train,(X_train.shape[0],X_train.shape[1],1)) #adding the batch_size axis\n",
    "X_train.shape"
   ]
  },
  {
   "cell_type": "code",
   "execution_count": 13,
   "id": "57c9d7f5-1b56-4e0b-89d4-9e894c3e56e2",
   "metadata": {},
   "outputs": [],
   "source": [
    "model = Sequential()\n",
    "\n",
    "model.add(LSTM(units=100, return_sequences = True, input_shape =(X_train.shape[1],1)))\n",
    "model.add(Dropout(0.2))\n",
    "\n",
    "model.add(LSTM(units=100, return_sequences = True))\n",
    "model.add(Dropout(0.2))\n",
    "\n",
    "model.add(LSTM(units=100, return_sequences = True))\n",
    "model.add(Dropout(0.2))\n",
    "\n",
    "model.add(LSTM(units=100, return_sequences = False))\n",
    "model.add(Dropout(0.2))\n",
    "\n",
    "model.add(Dense(units =1))\n",
    "model.compile(optimizer='adam',loss=\"mean_squared_error\")"
   ]
  },
  {
   "cell_type": "code",
   "execution_count": 14,
   "id": "f982bc05-5208-4df0-bf78-ed7a02c1118c",
   "metadata": {},
   "outputs": [
    {
     "name": "stdout",
     "output_type": "stream",
     "text": [
      "Epoch 1/20\n",
      "35/35 - 11s - 320ms/step - loss: 0.0383\n",
      "Epoch 2/20\n",
      "35/35 - 3s - 75ms/step - loss: 0.0122\n",
      "Epoch 3/20\n",
      "35/35 - 3s - 73ms/step - loss: 0.0083\n",
      "Epoch 4/20\n",
      "35/35 - 3s - 76ms/step - loss: 0.0099\n",
      "Epoch 5/20\n",
      "35/35 - 3s - 75ms/step - loss: 0.0079\n",
      "Epoch 6/20\n",
      "35/35 - 3s - 79ms/step - loss: 0.0090\n",
      "Epoch 7/20\n",
      "35/35 - 3s - 81ms/step - loss: 0.0075\n",
      "Epoch 8/20\n",
      "35/35 - 3s - 78ms/step - loss: 0.0074\n",
      "Epoch 9/20\n",
      "35/35 - 3s - 82ms/step - loss: 0.0067\n",
      "Epoch 10/20\n",
      "35/35 - 3s - 82ms/step - loss: 0.0066\n",
      "Epoch 11/20\n",
      "35/35 - 3s - 78ms/step - loss: 0.0061\n",
      "Epoch 12/20\n",
      "35/35 - 2s - 71ms/step - loss: 0.0058\n",
      "Epoch 13/20\n",
      "35/35 - 3s - 72ms/step - loss: 0.0062\n",
      "Epoch 14/20\n",
      "35/35 - 3s - 73ms/step - loss: 0.0052\n",
      "Epoch 15/20\n",
      "35/35 - 3s - 74ms/step - loss: 0.0048\n",
      "Epoch 16/20\n",
      "35/35 - 3s - 72ms/step - loss: 0.0055\n",
      "Epoch 17/20\n",
      "35/35 - 3s - 76ms/step - loss: 0.0057\n",
      "Epoch 18/20\n",
      "35/35 - 2s - 70ms/step - loss: 0.0046\n",
      "Epoch 19/20\n",
      "35/35 - 3s - 73ms/step - loss: 0.0049\n",
      "Epoch 20/20\n",
      "35/35 - 2s - 71ms/step - loss: 0.0043\n"
     ]
    }
   ],
   "source": [
    "hist = model.fit(X_train, y_train, epochs = 20, batch_size = 32, verbose=2)"
   ]
  },
  {
   "cell_type": "code",
   "execution_count": 15,
   "id": "336617b4-179f-467f-bd9b-257c74018a50",
   "metadata": {},
   "outputs": [
    {
     "data": {
      "image/png": "[encoded data removed]",
      "text/plain": [
       "<Figure size 640x480 with 1 Axes>"
      ]
     },
     "metadata": {},
     "output_type": "display_data"
    }
   ],
   "source": [
    "plt.plot(hist.history['loss'])\n",
    "plt.title('Training model loss')\n",
    "plt.ylabel('loss')\n",
    "plt.xlabel('epoch')\n",
    "plt.legend(['train'], loc='upper left')\n",
    "plt.show()"
   ]
  },
  {
   "cell_type": "code",
   "execution_count": 17,
   "id": "c47c8ef4-04b5-491f-a2cb-fc3a21ba1980",
   "metadata": {},
   "outputs": [
    {
     "data": {
      "text/plain": [
       "(192, 60, 1)"
      ]
     },
     "execution_count": 17,
     "metadata": {},
     "output_type": "execute_result"
    }
   ],
   "source": [
    "testData = pd.read_csv('C:\\\\Users\\\\ASUS\\\\Downloads\\\\datasetsandcodefilesstockmarketprediction (1)\\Google_test_data.csv')\n",
    "testData[\"Close\"]=pd.to_numeric(testData.Close,errors='coerce')\n",
    "testData = testData.dropna()\n",
    "testData = testData.iloc[:,4:5]\n",
    "y_test = testData.iloc[60:,0:].values \n",
    "#input array for the model\n",
    "inputClosing = testData.iloc[:,0:].values \n",
    "inputClosing_scaled = sc.transform(inputClosing)\n",
    "inputClosing_scaled.shape\n",
    "X_test = []\n",
    "length = len(testData)\n",
    "timestep = 60\n",
    "for i in range(timestep,length):  \n",
    "    X_test.append(inputClosing_scaled[i-timestep:i,0])\n",
    "X_test = np.array(X_test)\n",
    "X_test = np.reshape(X_test,(X_test.shape[0],X_test.shape[1],1))\n",
    "X_test.shape"
   ]
  },
  {
   "cell_type": "code",
   "execution_count": 18,
   "id": "19007947-f981-442d-bfd8-335a575b728e",
   "metadata": {},
   "outputs": [
    {
     "name": "stdout",
     "output_type": "stream",
     "text": [
      "\u001b[1m6/6\u001b[0m \u001b[32m━━━━━━━━━━━━━━━━━━━━\u001b[0m\u001b[37m\u001b[0m \u001b[1m1s\u001b[0m 29ms/step\n"
     ]
    },
    {
     "data": {
      "text/plain": [
       "array([[1.1490463],\n",
       "       [1.1525322],\n",
       "       [1.1642895],\n",
       "       [1.18164  ],\n",
       "       [1.1951919],\n",
       "       [1.1942116],\n",
       "       [1.1794481],\n",
       "       [1.15984  ],\n",
       "       [1.1476392],\n",
       "       [1.1451992],\n",
       "       [1.1398985],\n",
       "       [1.1298981],\n",
       "       [1.1207291],\n",
       "       [1.1123091],\n",
       "       [1.1111393],\n",
       "       [1.1166167],\n",
       "       [1.1355584],\n",
       "       [1.1647059],\n",
       "       [1.1972506],\n",
       "       [1.2285167],\n",
       "       [1.2394637],\n",
       "       [1.2330228],\n",
       "       [1.209345 ],\n",
       "       [1.1776586],\n",
       "       [1.1504804],\n",
       "       [1.1365087],\n",
       "       [1.1353571],\n",
       "       [1.1377589],\n",
       "       [1.1327809],\n",
       "       [1.1229576],\n",
       "       [1.1113741],\n",
       "       [1.0980486],\n",
       "       [1.078124 ],\n",
       "       [1.0536081],\n",
       "       [1.0443262],\n",
       "       [1.055498 ],\n",
       "       [1.0793821],\n",
       "       [1.1056519],\n",
       "       [1.1293423],\n",
       "       [1.1401589],\n",
       "       [1.1502652],\n",
       "       [1.1632135],\n",
       "       [1.1790947],\n",
       "       [1.1941552],\n",
       "       [1.2040106],\n",
       "       [1.204142 ],\n",
       "       [1.1929284],\n",
       "       [1.1828822],\n",
       "       [1.1802211],\n",
       "       [1.1866822],\n",
       "       [1.2007583],\n",
       "       [1.2105099],\n",
       "       [1.2130313],\n",
       "       [1.2093953],\n",
       "       [1.2068946],\n",
       "       [1.202726 ],\n",
       "       [1.1941929],\n",
       "       [1.1899456],\n",
       "       [1.1991605],\n",
       "       [1.2179127],\n",
       "       [1.244391 ],\n",
       "       [1.2754264],\n",
       "       [1.296272 ],\n",
       "       [1.2979681],\n",
       "       [1.2831303],\n",
       "       [1.2604004],\n",
       "       [1.244874 ],\n",
       "       [1.2404728],\n",
       "       [1.2450835],\n",
       "       [1.2520012],\n",
       "       [1.258577 ],\n",
       "       [1.2622477],\n",
       "       [1.2584364],\n",
       "       [1.2522217],\n",
       "       [1.2469176],\n",
       "       [1.2453761],\n",
       "       [1.2476116],\n",
       "       [1.2529627],\n",
       "       [1.2649333],\n",
       "       [1.2827787],\n",
       "       [1.305466 ],\n",
       "       [1.3267288],\n",
       "       [1.3379359],\n",
       "       [1.3378135],\n",
       "       [1.3389623],\n",
       "       [1.3494765],\n",
       "       [1.3666203],\n",
       "       [1.3818939],\n",
       "       [1.3903593],\n",
       "       [1.3915234],\n",
       "       [1.3916076],\n",
       "       [1.3997096],\n",
       "       [1.4163339],\n",
       "       [1.4281219],\n",
       "       [1.4268506],\n",
       "       [1.4126047],\n",
       "       [1.389004 ],\n",
       "       [1.3625898],\n",
       "       [1.3413928],\n",
       "       [1.3348378],\n",
       "       [1.343327 ],\n",
       "       [1.3619472],\n",
       "       [1.3855857],\n",
       "       [1.4055265],\n",
       "       [1.416694 ],\n",
       "       [1.4173647],\n",
       "       [1.4121135],\n",
       "       [1.4058235],\n",
       "       [1.404714 ],\n",
       "       [1.4095907],\n",
       "       [1.4191928],\n",
       "       [1.4324509],\n",
       "       [1.4456491],\n",
       "       [1.4591392],\n",
       "       [1.4753293],\n",
       "       [1.488719 ],\n",
       "       [1.4983366],\n",
       "       [1.506093 ],\n",
       "       [1.5162086],\n",
       "       [1.4973774],\n",
       "       [1.4477594],\n",
       "       [1.3850964],\n",
       "       [1.3354636],\n",
       "       [1.3100936],\n",
       "       [1.3030449],\n",
       "       [1.3051178],\n",
       "       [1.3097422],\n",
       "       [1.3149168],\n",
       "       [1.3112298],\n",
       "       [1.2967687],\n",
       "       [1.2892267],\n",
       "       [1.2975001],\n",
       "       [1.31323  ],\n",
       "       [1.3222812],\n",
       "       [1.3243089],\n",
       "       [1.3225157],\n",
       "       [1.3168057],\n",
       "       [1.3072147],\n",
       "       [1.2965728],\n",
       "       [1.2829297],\n",
       "       [1.2689034],\n",
       "       [1.2537926],\n",
       "       [1.2222682],\n",
       "       [1.1836473],\n",
       "       [1.1465586],\n",
       "       [1.1187767],\n",
       "       [1.1087604],\n",
       "       [1.1187444],\n",
       "       [1.141742 ],\n",
       "       [1.1680669],\n",
       "       [1.1933465],\n",
       "       [1.2130479],\n",
       "       [1.2269864],\n",
       "       [1.2381746],\n",
       "       [1.246703 ],\n",
       "       [1.254302 ],\n",
       "       [1.2632629],\n",
       "       [1.2707564],\n",
       "       [1.2673249],\n",
       "       [1.2519612],\n",
       "       [1.2295725],\n",
       "       [1.2083081],\n",
       "       [1.1973984],\n",
       "       [1.2011075],\n",
       "       [1.218006 ],\n",
       "       [1.243536 ],\n",
       "       [1.2660912],\n",
       "       [1.2819884],\n",
       "       [1.29461  ],\n",
       "       [1.3055984],\n",
       "       [1.3144006],\n",
       "       [1.3214079],\n",
       "       [1.3269413],\n",
       "       [1.3285646],\n",
       "       [1.3262497],\n",
       "       [1.3171057],\n",
       "       [1.305741 ],\n",
       "       [1.2981336],\n",
       "       [1.2935501],\n",
       "       [1.289558 ],\n",
       "       [1.3172394],\n",
       "       [1.3699967],\n",
       "       [1.4243097],\n",
       "       [1.461124 ],\n",
       "       [1.473325 ],\n",
       "       [1.4616818],\n",
       "       [1.4245461],\n",
       "       [1.3806343],\n",
       "       [1.3451309],\n",
       "       [1.3326654],\n",
       "       [1.3364254],\n",
       "       [1.3439902]], dtype=float32)"
      ]
     },
     "execution_count": 18,
     "metadata": {},
     "output_type": "execute_result"
    }
   ],
   "source": [
    "y_pred = model.predict(X_test)\n",
    "y_pred"
   ]
  },
  {
   "cell_type": "code",
   "execution_count": 20,
   "id": "cea056db-bb0f-415a-832d-021ff2f9aa73",
   "metadata": {},
   "outputs": [],
   "source": [
    "predicted_price = sc.inverse_transform(y_pred)"
   ]
  },
  {
   "cell_type": "code",
   "execution_count": 21,
   "id": "16e8d7c4-36f1-4c6c-9346-b37f5960328d",
   "metadata": {},
   "outputs": [
    {
     "data": {
      "image/png": "[encoded data removed]",
      "text/plain": [
       "<Figure size 640x480 with 1 Axes>"
      ]
     },
     "metadata": {},
     "output_type": "display_data"
    }
   ],
   "source": [
    "plt.plot(y_test, color = 'red', label = 'Actual Stock Price')\n",
    "plt.plot(predicted_price, color = 'green', label = 'Predicted Stock Price')\n",
    "plt.title('Google stock price prediction')\n",
    "plt.xlabel('Time')\n",
    "plt.ylabel('Stock Price')\n",
    "plt.legend()\n",
    "plt.show()"
   ]
  },
  {
   "cell_type": "code",
   "execution_count": null,
   "id": "510cdac5-17ad-4623-bcfb-d709b2919fae",
   "metadata": {},
   "outputs": [],
   "source": []
  }
 ],
 "metadata": {
  "kernelspec": {
   "display_name": "Python 3 (ipykernel)",
   "language": "python",
   "name": "python3"
  },
  "language_info": {
   "codemirror_mode": {
    "name": "ipython",
    "version": 3
   },
   "file_extension": ".py",
   "mimetype": "text/x-python",
   "name": "python",
   "nbconvert_exporter": "python",
   "pygments_lexer": "ipython3",
   "version": "3.11.7"
  }
 },
 "nbformat": 4,
 "nbformat_minor": 5
}
